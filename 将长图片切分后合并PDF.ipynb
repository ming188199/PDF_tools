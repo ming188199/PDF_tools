{
 "cells": [
  {
   "cell_type": "code",
   "execution_count": 15,
   "id": "60b3f50d-f109-4dd9-8b01-333877a18711",
   "metadata": {},
   "outputs": [],
   "source": [
    "import os\n",
    "import re\n",
    "from pdf2image import convert_from_path \n",
    "from PIL import Image\n",
    "\n",
    "from PyPDF2 import PdfFileMerger, PdfFileReader, PdfFileWriter\n",
    "import pathlib\n",
    "# 获取当前目录\n",
    "curr_dir = pathlib.Path('.')"
   ]
  },
  {
   "cell_type": "code",
   "execution_count": 5,
   "id": "8ea8d679-fa52-4563-ba92-d1ce574abed4",
   "metadata": {},
   "outputs": [
    {
     "name": "stdin",
     "output_type": "stream",
     "text": [
      " /Users/kk/Downloads/048 怎样获得高质量睡眠（不整理）jpg\n"
     ]
    }
   ],
   "source": [
    "dir_input = input()\n",
    "curr_dir = pathlib.Path(dir_input)"
   ]
  },
  {
   "cell_type": "code",
   "execution_count": 14,
   "id": "0661e402-2555-4f2a-b7fc-00f2a43f571b",
   "metadata": {},
   "outputs": [],
   "source": [
    "def pdf_to_img(pdf_path):\n",
    "    pages = convert_from_path(pdf_path)\n",
    "    image_counter = 1\n",
    "    for page in pages: \n",
    "        page.save(f'page{image_counter}.jpg', 'JPEG')\n",
    "        image_counter = image_counter + 1"
   ]
  },
  {
   "cell_type": "code",
   "execution_count": 18,
   "id": "29fbe21f-fc7a-4f1b-97a9-62430fdf8ff1",
   "metadata": {},
   "outputs": [],
   "source": [
    "\n",
    "def pdf_to_img(pdf_path):\n",
    "    pages = convert_from_path(pdf_path)\n",
    "    image_counter = 1\n",
    "    for page in pages: \n",
    "        page.save(f'page{image_counter}.jpg', 'JPEG')\n",
    "        image_counter = image_counter + 1"
   ]
  },
  {
   "cell_type": "code",
   "execution_count": 88,
   "id": "3424524d-7c8e-45e5-b8a3-74620e979dfe",
   "metadata": {},
   "outputs": [],
   "source": [
    "\n",
    "def pdf_to_img(pdf_path):\n",
    "    pages = convert_from_path(pdf_path)\n",
    "    image_counter = 1\n",
    "    for page in pages: \n",
    "        page.save(f'page{image_counter}.jpg', 'JPEG')\n",
    "        image_counter = image_counter + 1\n",
    "\n",
    "\n",
    "def img_split(path):\n",
    "    img = Image.open(path)\n",
    "    width, height = img.size\n",
    "    \n",
    "    # 计算切割后的片段数量\n",
    "    split_width = width\n",
    "    split_num_w = 1\n",
    "    split_height = width * 1.4\n",
    "    split_num_h = int(height // split_height)\n",
    "    \n",
    "    # 获取图片主色调\n",
    "    main_color = get_main_color(img)\n",
    "    \n",
    "    # 开始切割\n",
    "    i = 0\n",
    "    sum_offset = 0 #总偏移 初始化\n",
    "    offset = 5\n",
    "    for j in range(split_num_h+1):\n",
    "        # 计算切割区域 sum_offset 上次总偏移\n",
    "        x1, x2 = 0, split_width\n",
    "        y1, y2 = j*split_height + sum_offset + int(j>0)*offset, min((j+1)*split_height, img.height)\n",
    "        area = (x1, y1, x2, y2)\n",
    "\n",
    "        # 检查切割线附近的颜色,判断是否过于接近文本\n",
    "        # if is_nearlywhite(img, area, main_color, 5):  \n",
    "        #     continue   # 跳过切割\n",
    "        sum_offset = 0 #总偏移清零\n",
    "        while not is_nearlywhite(img, area, main_color, offset):\n",
    "            sum_offset += offset\n",
    "            y2 = min((j+1)*split_height + sum_offset, img.height)\n",
    "            area = (x1, y1, x2, y2)\n",
    "            if y2 == img.height:\n",
    "                break\n",
    "        if y1 >= y2:\n",
    "            continue\n",
    "        crop_img = img.crop(area)  \n",
    "        # 保存切割后的片段\n",
    "        # todo \n",
    "        path_img = curr_dir/'img/'\n",
    "        print(path_img/f'{os.path.splitext(path)[0]}_{i}_{j:02d}.jpg')\n",
    "        crop_img.save(path_img/f'{os.path.splitext(path)[0]}_{i}_{j:02d}.jpg') \n",
    "\n",
    "# 获取图片主色调            \n",
    "def get_main_color(img):\n",
    "    # 将图片转换为RGB模式\n",
    "    img = img.convert('RGB')\n",
    "    \n",
    "    # 获取图片尺寸\n",
    "    width, height = img.size\n",
    "    \n",
    "    # 统计图片中RGB值出现的次数\n",
    "    rgb_dict = {}\n",
    "    for i in range(width):\n",
    "        for j in range(height):\n",
    "            rgb = img.getpixel((i,j))\n",
    "            if rgb not in rgb_dict:\n",
    "                rgb_dict[rgb] = 1\n",
    "            else:\n",
    "                rgb_dict[rgb] += 1\n",
    "                \n",
    "    # 将字典按value值排序,取出现次数最多的颜色        \n",
    "    rgb_sorted = sorted(rgb_dict.items(), key=lambda x:x[1], reverse=True)\n",
    "    \n",
    "    # 返回RGB值最高的颜色            \n",
    "    return rgb_sorted[0][0]  \n",
    "\n",
    "def get_linearea_4point(img, area, offset):\n",
    "    x1, y1, x2, y2 = area\n",
    "    # 扩大offset个像素\n",
    "    x1_o = x1 - offset\n",
    "    y1_o = y2 - offset\n",
    "    x2_o = x2 + offset\n",
    "    y2_o = y2 + offset\n",
    "\n",
    "    # 校验扩大后的区域是否超出图像范围\n",
    "    x1_o = max(x1_o, 0)\n",
    "    y1_o = int(min(max(y1_o, 0), img.height))\n",
    "    x2_o = int(min(x2_o, img.width))\n",
    "    y2_o = int(min(y2_o, img.height))\n",
    "    return (x1_o, y1_o, x2_o, y2_o)\n",
    "\n",
    "\n",
    "# 检查指定区域附近是否为白色或背景色        \n",
    "def is_nearlywhite(img, area, main_color, offset):\n",
    "    # 获取切割区域左上角和右下角位置\n",
    "    x1, y1, x2, y2 = area\n",
    "    (x1_o, y1_o, x2_o, y2_o) = get_linearea_4point(img, area, offset)\n",
    "    if y1_o >= y2_o:\n",
    "        return True\n",
    "    # 统计扩大区域内每个像素的值\n",
    "    rgb_dict = {}\n",
    "    for i in range(x1_o, x2_o):\n",
    "        for j in range(y1_o, y2_o):\n",
    "            rgb = img.getpixel((i,j))\n",
    "            if rgb not in rgb_dict:\n",
    "                rgb_dict[rgb] = 1\n",
    "            else:\n",
    "                rgb_dict[rgb] += 1  \n",
    "                \n",
    "    # 如果主色调的像素值大于80% 或 最近的其他颜色值不超过10%\n",
    "    if rgb_dict[main_color] > 0.95 * (x2_o - x1_o) * (y2_o - y1_o) \\\n",
    "            or rgb_dict[max(rgb_dict, key=rgb_dict.get)] < 0.05 * (x2_o - x1_o) * (y2_o - y1_o):\n",
    "        return True\n",
    "    else:\n",
    "        return False\n"
   ]
  },
  {
   "cell_type": "code",
   "execution_count": 20,
   "id": "1750d065-e4c6-4dc8-98d4-8ddd24e52504",
   "metadata": {
    "collapsed": true,
    "jupyter": {
     "outputs_hidden": true
    },
    "tags": []
   },
   "outputs": [
    {
     "ename": "PDFPageCountError",
     "evalue": "Unable to get page count.\nI/O Error: Couldn't open file '00test.pdf': No such file or directory.\n",
     "output_type": "error",
     "traceback": [
      "\u001b[0;31m---------------------------------------------------------------------------\u001b[0m",
      "\u001b[0;31mValueError\u001b[0m                                Traceback (most recent call last)",
      "File \u001b[0;32m~/opt/anaconda3/envs/tools/lib/python3.9/site-packages/pdf2image/pdf2image.py:589\u001b[0m, in \u001b[0;36mpdfinfo_from_path\u001b[0;34m(pdf_path, userpw, ownerpw, poppler_path, rawdates, timeout)\u001b[0m\n\u001b[1;32m    588\u001b[0m \u001b[38;5;28;01mif\u001b[39;00m \u001b[38;5;124m\"\u001b[39m\u001b[38;5;124mPages\u001b[39m\u001b[38;5;124m\"\u001b[39m \u001b[38;5;129;01mnot\u001b[39;00m \u001b[38;5;129;01min\u001b[39;00m d:\n\u001b[0;32m--> 589\u001b[0m     \u001b[38;5;28;01mraise\u001b[39;00m \u001b[38;5;167;01mValueError\u001b[39;00m\n\u001b[1;32m    591\u001b[0m \u001b[38;5;28;01mreturn\u001b[39;00m d\n",
      "\u001b[0;31mValueError\u001b[0m: ",
      "\nDuring handling of the above exception, another exception occurred:\n",
      "\u001b[0;31mPDFPageCountError\u001b[0m                         Traceback (most recent call last)",
      "Cell \u001b[0;32mIn[20], line 2\u001b[0m\n\u001b[1;32m      1\u001b[0m pdf_path \u001b[38;5;241m=\u001b[39m \u001b[38;5;124m\"\u001b[39m\u001b[38;5;124m00test.pdf\u001b[39m\u001b[38;5;124m\"\u001b[39m\n\u001b[0;32m----> 2\u001b[0m \u001b[43mpdf_to_img\u001b[49m\u001b[43m(\u001b[49m\u001b[43mpdf_path\u001b[49m\u001b[43m)\u001b[49m\n\u001b[1;32m      3\u001b[0m path \u001b[38;5;241m=\u001b[39m \u001b[38;5;124m\"\u001b[39m\u001b[38;5;124m.\u001b[39m\u001b[38;5;124m\"\u001b[39m\n",
      "Cell \u001b[0;32mIn[18], line 2\u001b[0m, in \u001b[0;36mpdf_to_img\u001b[0;34m(pdf_path)\u001b[0m\n\u001b[1;32m      1\u001b[0m \u001b[38;5;28;01mdef\u001b[39;00m \u001b[38;5;21mpdf_to_img\u001b[39m(pdf_path):\n\u001b[0;32m----> 2\u001b[0m     pages \u001b[38;5;241m=\u001b[39m \u001b[43mconvert_from_path\u001b[49m\u001b[43m(\u001b[49m\u001b[43mpdf_path\u001b[49m\u001b[43m)\u001b[49m\n\u001b[1;32m      3\u001b[0m     image_counter \u001b[38;5;241m=\u001b[39m \u001b[38;5;241m1\u001b[39m\n\u001b[1;32m      4\u001b[0m     \u001b[38;5;28;01mfor\u001b[39;00m page \u001b[38;5;129;01min\u001b[39;00m pages: \n",
      "File \u001b[0;32m~/opt/anaconda3/envs/tools/lib/python3.9/site-packages/pdf2image/pdf2image.py:127\u001b[0m, in \u001b[0;36mconvert_from_path\u001b[0;34m(pdf_path, dpi, output_folder, first_page, last_page, fmt, jpegopt, thread_count, userpw, ownerpw, use_cropbox, strict, transparent, single_file, output_file, poppler_path, grayscale, size, paths_only, use_pdftocairo, timeout, hide_annotations)\u001b[0m\n\u001b[1;32m    124\u001b[0m \u001b[38;5;28;01mif\u001b[39;00m \u001b[38;5;28misinstance\u001b[39m(poppler_path, PurePath):\n\u001b[1;32m    125\u001b[0m     poppler_path \u001b[38;5;241m=\u001b[39m poppler_path\u001b[38;5;241m.\u001b[39mas_posix()\n\u001b[0;32m--> 127\u001b[0m page_count \u001b[38;5;241m=\u001b[39m \u001b[43mpdfinfo_from_path\u001b[49m\u001b[43m(\u001b[49m\n\u001b[1;32m    128\u001b[0m \u001b[43m    \u001b[49m\u001b[43mpdf_path\u001b[49m\u001b[43m,\u001b[49m\u001b[43m \u001b[49m\u001b[43muserpw\u001b[49m\u001b[43m,\u001b[49m\u001b[43m \u001b[49m\u001b[43mownerpw\u001b[49m\u001b[43m,\u001b[49m\u001b[43m \u001b[49m\u001b[43mpoppler_path\u001b[49m\u001b[38;5;241;43m=\u001b[39;49m\u001b[43mpoppler_path\u001b[49m\n\u001b[1;32m    129\u001b[0m \u001b[43m\u001b[49m\u001b[43m)\u001b[49m[\u001b[38;5;124m\"\u001b[39m\u001b[38;5;124mPages\u001b[39m\u001b[38;5;124m\"\u001b[39m]\n\u001b[1;32m    131\u001b[0m \u001b[38;5;66;03m# We start by getting the output format, the buffer processing function and if we need pdftocairo\u001b[39;00m\n\u001b[1;32m    132\u001b[0m parsed_fmt, final_extension, parse_buffer_func, use_pdfcairo_format \u001b[38;5;241m=\u001b[39m _parse_format(\n\u001b[1;32m    133\u001b[0m     fmt, grayscale\n\u001b[1;32m    134\u001b[0m )\n",
      "File \u001b[0;32m~/opt/anaconda3/envs/tools/lib/python3.9/site-packages/pdf2image/pdf2image.py:598\u001b[0m, in \u001b[0;36mpdfinfo_from_path\u001b[0;34m(pdf_path, userpw, ownerpw, poppler_path, rawdates, timeout)\u001b[0m\n\u001b[1;32m    594\u001b[0m     \u001b[38;5;28;01mraise\u001b[39;00m PDFInfoNotInstalledError(\n\u001b[1;32m    595\u001b[0m         \u001b[38;5;124m\"\u001b[39m\u001b[38;5;124mUnable to get page count. Is poppler installed and in PATH?\u001b[39m\u001b[38;5;124m\"\u001b[39m\n\u001b[1;32m    596\u001b[0m     )\n\u001b[1;32m    597\u001b[0m \u001b[38;5;28;01mexcept\u001b[39;00m \u001b[38;5;167;01mValueError\u001b[39;00m:\n\u001b[0;32m--> 598\u001b[0m     \u001b[38;5;28;01mraise\u001b[39;00m PDFPageCountError(\n\u001b[1;32m    599\u001b[0m         \u001b[38;5;124mf\u001b[39m\u001b[38;5;124m\"\u001b[39m\u001b[38;5;124mUnable to get page count.\u001b[39m\u001b[38;5;130;01m\\n\u001b[39;00m\u001b[38;5;132;01m{\u001b[39;00merr\u001b[38;5;241m.\u001b[39mdecode(\u001b[38;5;124m'\u001b[39m\u001b[38;5;124mutf8\u001b[39m\u001b[38;5;124m'\u001b[39m,\u001b[38;5;250m \u001b[39m\u001b[38;5;124m'\u001b[39m\u001b[38;5;124mignore\u001b[39m\u001b[38;5;124m'\u001b[39m)\u001b[38;5;132;01m}\u001b[39;00m\u001b[38;5;124m\"\u001b[39m\n\u001b[1;32m    600\u001b[0m     )\n",
      "\u001b[0;31mPDFPageCountError\u001b[0m: Unable to get page count.\nI/O Error: Couldn't open file '00test.pdf': No such file or directory.\n"
     ]
    }
   ],
   "source": [
    "pdf_path = \"00test.pdf\"\n",
    "pdf_to_img(pdf_path)\n",
    "path = \".\"\n"
   ]
  },
  {
   "cell_type": "code",
   "execution_count": 6,
   "id": "b5093211-48c1-47fe-a393-9b90af5110ac",
   "metadata": {},
   "outputs": [],
   "source": [
    "\n",
    "tmp = pathlib.Path('.')\n",
    "# tmp = curr_dir\n",
    "path_img = curr_dir/'img/'"
   ]
  },
  {
   "cell_type": "code",
   "execution_count": 90,
   "id": "4c677bdf-d58d-48b3-b6be-ff347268a448",
   "metadata": {},
   "outputs": [
    {
     "data": {
      "text/plain": [
       "PosixPath('/Users/kk/Downloads/048 怎样获得高质量睡眠（不整理）jpg/img')"
      ]
     },
     "execution_count": 90,
     "metadata": {},
     "output_type": "execute_result"
    }
   ],
   "source": [
    "path_img"
   ]
  },
  {
   "cell_type": "code",
   "execution_count": 86,
   "id": "b8dfd480-76e8-4c7c-80e8-4701fdb8aa4e",
   "metadata": {
    "tags": []
   },
   "outputs": [
    {
     "name": "stdout",
     "output_type": "stream",
     "text": [
      "/Users/kk/Downloads/048 怎样获得高质量睡眠（不整理）jpg/0.发刊词  为什么你知道这么多，还是睡不好？.jpg\n",
      "/Users/kk/Downloads/048 怎样获得高质量睡眠（不整理）jpg/3.减少阻力：创造合适的卧室环境.jpg\n",
      "/Users/kk/Downloads/048 怎样获得高质量睡眠（不整理）jpg/4.排除干扰：酒、咖啡、安眠药和午觉 .jpg\n"
     ]
    }
   ],
   "source": [
    "# 递归遍历所有jpg文件\n",
    "for filename in curr_dir.glob('*.jpg'):\n",
    "    print(filename)\n",
    "    # img = Image.open(filename)\n",
    "    img_split(filename)"
   ]
  },
  {
   "cell_type": "code",
   "execution_count": 42,
   "id": "0c668e9b-73e6-4135-bd14-e2f722931ddd",
   "metadata": {},
   "outputs": [
    {
     "data": {
      "text/plain": [
       "PosixPath('/Users/kk/Downloads/048 怎样获得高质量睡眠（不整理）jpg')"
      ]
     },
     "execution_count": 42,
     "metadata": {},
     "output_type": "execute_result"
    }
   ],
   "source": [
    "curr_dir"
   ]
  },
  {
   "cell_type": "code",
   "execution_count": 73,
   "id": "8746daf8-8fab-4aae-8c2c-34cd08590dd0",
   "metadata": {},
   "outputs": [
    {
     "data": {
      "text/plain": [
       "PosixPath('0.发刊词  为什么你知道这么多，还是睡不好？_0_09.jpg')"
      ]
     },
     "execution_count": 73,
     "metadata": {},
     "output_type": "execute_result"
    }
   ],
   "source": [
    "filename"
   ]
  },
  {
   "cell_type": "code",
   "execution_count": 79,
   "id": "c4a10bd8-71f1-4558-9978-005a95b12b1a",
   "metadata": {
    "collapsed": true,
    "jupyter": {
     "outputs_hidden": true,
     "source_hidden": true
    },
    "tags": []
   },
   "outputs": [
    {
     "name": "stdout",
     "output_type": "stream",
     "text": [
      "/Users/kk/Downloads/048 怎样获得高质量睡眠（不整理）jpg/img/0.发刊词  为什么你知道这么多，还是睡不好？_0_09_0_01.jpg\n"
     ]
    },
    {
     "data": {
      "text/plain": [
       "'0.发刊词  为什么你知道这么多，还是睡不好？_0_09_0_01.jpg'"
      ]
     },
     "execution_count": 79,
     "metadata": {},
     "output_type": "execute_result"
    }
   ],
   "source": [
    "path = pathlib.Path('/Users/kk/Downloads/048 怎样获得高质量睡眠（不整理）jpg')\n",
    "# path.mkdir()\n",
    "i = 0\n",
    "j = 1\n",
    "path_img = path/'img/'\n",
    "# path_img.mkdir()\n",
    "print(path_img/f'{os.path.splitext(filename)[0]}_{i}_{j:02d}.jpg')\n",
    "\n",
    "f'{os.path.splitext(filename)[0]}_{i}_{j:02d}.jpg'"
   ]
  },
  {
   "cell_type": "markdown",
   "id": "0a331cc4-7501-4ea6-851c-0c7342f31b3c",
   "metadata": {},
   "source": [
    "# image2pdf"
   ]
  },
  {
   "cell_type": "code",
   "execution_count": 102,
   "id": "6deb07a4-b3c6-4784-8f48-7390f364c0a8",
   "metadata": {
    "collapsed": true,
    "jupyter": {
     "outputs_hidden": true,
     "source_hidden": true
    },
    "tags": []
   },
   "outputs": [
    {
     "name": "stdout",
     "output_type": "stream",
     "text": [
      "0.发刊词  为什么你知道这么多，还是睡不好？_0_00.jpg\n"
     ]
    },
    {
     "ename": "UnicodeDecodeError",
     "evalue": "'utf-8' codec can't decode byte 0xff in position 0: invalid start byte",
     "output_type": "error",
     "traceback": [
      "\u001b[0;31m---------------------------------------------------------------------------\u001b[0m",
      "\u001b[0;31mUnicodeDecodeError\u001b[0m                        Traceback (most recent call last)",
      "Cell \u001b[0;32mIn[102], line 23\u001b[0m\n\u001b[1;32m     20\u001b[0m image \u001b[38;5;241m=\u001b[39m Image\u001b[38;5;241m.\u001b[39mopen(filename)\n\u001b[1;32m     22\u001b[0m \u001b[38;5;66;03m# 添加空白页并将图片添加到PDF\u001b[39;00m\n\u001b[0;32m---> 23\u001b[0m page \u001b[38;5;241m=\u001b[39m \u001b[43mPdfFileReader\u001b[49m\u001b[43m(\u001b[49m\u001b[38;5;28;43mopen\u001b[39;49m\u001b[43m(\u001b[49m\u001b[43mfilename\u001b[49m\u001b[43m,\u001b[49m\u001b[43m \u001b[49m\u001b[38;5;124;43m'\u001b[39;49m\u001b[38;5;124;43mrb\u001b[39;49m\u001b[38;5;124;43m'\u001b[39;49m\u001b[43m)\u001b[49m\u001b[43m)\u001b[49m\u001b[38;5;241m.\u001b[39mgetPage(\u001b[38;5;241m0\u001b[39m)\n\u001b[1;32m     24\u001b[0m page\u001b[38;5;241m.\u001b[39mscaleTo(image\u001b[38;5;241m.\u001b[39mwidth, image\u001b[38;5;241m.\u001b[39mheight)\n\u001b[1;32m     26\u001b[0m \u001b[38;5;66;03m# 使用%格式化\u001b[39;00m\n",
      "File \u001b[0;32m~/opt/anaconda3/envs/tools/lib/python3.9/site-packages/PyPDF2/_reader.py:1892\u001b[0m, in \u001b[0;36mPdfFileReader.__init__\u001b[0;34m(self, *args, **kwargs)\u001b[0m\n\u001b[1;32m   1890\u001b[0m \u001b[38;5;28;01mif\u001b[39;00m \u001b[38;5;124m\"\u001b[39m\u001b[38;5;124mstrict\u001b[39m\u001b[38;5;124m\"\u001b[39m \u001b[38;5;129;01mnot\u001b[39;00m \u001b[38;5;129;01min\u001b[39;00m kwargs \u001b[38;5;129;01mand\u001b[39;00m \u001b[38;5;28mlen\u001b[39m(args) \u001b[38;5;241m<\u001b[39m \u001b[38;5;241m2\u001b[39m:\n\u001b[1;32m   1891\u001b[0m     kwargs[\u001b[38;5;124m\"\u001b[39m\u001b[38;5;124mstrict\u001b[39m\u001b[38;5;124m\"\u001b[39m] \u001b[38;5;241m=\u001b[39m \u001b[38;5;28;01mTrue\u001b[39;00m  \u001b[38;5;66;03m# maintain the default\u001b[39;00m\n\u001b[0;32m-> 1892\u001b[0m \u001b[38;5;28;43msuper\u001b[39;49m\u001b[43m(\u001b[49m\u001b[43m)\u001b[49m\u001b[38;5;241;43m.\u001b[39;49m\u001b[38;5;21;43m__init__\u001b[39;49m\u001b[43m(\u001b[49m\u001b[38;5;241;43m*\u001b[39;49m\u001b[43margs\u001b[49m\u001b[43m,\u001b[49m\u001b[43m \u001b[49m\u001b[38;5;241;43m*\u001b[39;49m\u001b[38;5;241;43m*\u001b[39;49m\u001b[43mkwargs\u001b[49m\u001b[43m)\u001b[49m\n",
      "File \u001b[0;32m~/opt/anaconda3/envs/tools/lib/python3.9/site-packages/PyPDF2/_reader.py:274\u001b[0m, in \u001b[0;36mPdfReader.__init__\u001b[0;34m(self, stream, strict, password)\u001b[0m\n\u001b[1;32m    272\u001b[0m     \u001b[38;5;28;01mwith\u001b[39;00m \u001b[38;5;28mopen\u001b[39m(stream, \u001b[38;5;124m\"\u001b[39m\u001b[38;5;124mrb\u001b[39m\u001b[38;5;124m\"\u001b[39m) \u001b[38;5;28;01mas\u001b[39;00m fh:\n\u001b[1;32m    273\u001b[0m         stream \u001b[38;5;241m=\u001b[39m BytesIO(fh\u001b[38;5;241m.\u001b[39mread())\n\u001b[0;32m--> 274\u001b[0m \u001b[38;5;28;43mself\u001b[39;49m\u001b[38;5;241;43m.\u001b[39;49m\u001b[43mread\u001b[49m\u001b[43m(\u001b[49m\u001b[43mstream\u001b[49m\u001b[43m)\u001b[49m\n\u001b[1;32m    275\u001b[0m \u001b[38;5;28mself\u001b[39m\u001b[38;5;241m.\u001b[39mstream \u001b[38;5;241m=\u001b[39m stream\n\u001b[1;32m    277\u001b[0m \u001b[38;5;28mself\u001b[39m\u001b[38;5;241m.\u001b[39m_override_encryption \u001b[38;5;241m=\u001b[39m \u001b[38;5;28;01mFalse\u001b[39;00m\n",
      "File \u001b[0;32m~/opt/anaconda3/envs/tools/lib/python3.9/site-packages/PyPDF2/_reader.py:1329\u001b[0m, in \u001b[0;36mPdfReader.read\u001b[0;34m(self, stream)\u001b[0m\n\u001b[1;32m   1328\u001b[0m \u001b[38;5;28;01mdef\u001b[39;00m \u001b[38;5;21mread\u001b[39m(\u001b[38;5;28mself\u001b[39m, stream: StreamType) \u001b[38;5;241m-\u001b[39m\u001b[38;5;241m>\u001b[39m \u001b[38;5;28;01mNone\u001b[39;00m:\n\u001b[0;32m-> 1329\u001b[0m     \u001b[38;5;28;43mself\u001b[39;49m\u001b[38;5;241;43m.\u001b[39;49m\u001b[43m_basic_validation\u001b[49m\u001b[43m(\u001b[49m\u001b[43mstream\u001b[49m\u001b[43m)\u001b[49m\n\u001b[1;32m   1330\u001b[0m     \u001b[38;5;28mself\u001b[39m\u001b[38;5;241m.\u001b[39m_find_eof_marker(stream)\n\u001b[1;32m   1331\u001b[0m     startxref \u001b[38;5;241m=\u001b[39m \u001b[38;5;28mself\u001b[39m\u001b[38;5;241m.\u001b[39m_find_startxref_pos(stream)\n",
      "File \u001b[0;32m~/opt/anaconda3/envs/tools/lib/python3.9/site-packages/PyPDF2/_reader.py:1376\u001b[0m, in \u001b[0;36mPdfReader._basic_validation\u001b[0;34m(self, stream)\u001b[0m\n\u001b[1;32m   1373\u001b[0m header_byte \u001b[38;5;241m=\u001b[39m stream\u001b[38;5;241m.\u001b[39mread(\u001b[38;5;241m5\u001b[39m)\n\u001b[1;32m   1374\u001b[0m \u001b[38;5;28;01mif\u001b[39;00m header_byte \u001b[38;5;241m!=\u001b[39m \u001b[38;5;124mb\u001b[39m\u001b[38;5;124m\"\u001b[39m\u001b[38;5;124m%\u001b[39m\u001b[38;5;124mPDF-\u001b[39m\u001b[38;5;124m\"\u001b[39m:\n\u001b[1;32m   1375\u001b[0m     \u001b[38;5;28;01mraise\u001b[39;00m PdfReadError(\n\u001b[0;32m-> 1376\u001b[0m         \u001b[38;5;124mf\u001b[39m\u001b[38;5;124m\"\u001b[39m\u001b[38;5;124mPDF starts with \u001b[39m\u001b[38;5;124m'\u001b[39m\u001b[38;5;132;01m{\u001b[39;00m\u001b[43mheader_byte\u001b[49m\u001b[38;5;241;43m.\u001b[39;49m\u001b[43mdecode\u001b[49m\u001b[43m(\u001b[49m\u001b[38;5;124;43m'\u001b[39;49m\u001b[38;5;124;43mutf8\u001b[39;49m\u001b[38;5;124;43m'\u001b[39;49m\u001b[43m)\u001b[49m\u001b[38;5;132;01m}\u001b[39;00m\u001b[38;5;124m'\u001b[39m\u001b[38;5;124m, \u001b[39m\u001b[38;5;124m\"\u001b[39m\n\u001b[1;32m   1377\u001b[0m         \u001b[38;5;124m\"\u001b[39m\u001b[38;5;124mbut \u001b[39m\u001b[38;5;124m'\u001b[39m\u001b[38;5;124m%\u001b[39m\u001b[38;5;124mPDF-\u001b[39m\u001b[38;5;124m'\u001b[39m\u001b[38;5;124m expected\u001b[39m\u001b[38;5;124m\"\u001b[39m\n\u001b[1;32m   1378\u001b[0m     )\n\u001b[1;32m   1379\u001b[0m stream\u001b[38;5;241m.\u001b[39mseek(\u001b[38;5;241m0\u001b[39m, os\u001b[38;5;241m.\u001b[39mSEEK_END)\n",
      "\u001b[0;31mUnicodeDecodeError\u001b[0m: 'utf-8' codec can't decode byte 0xff in position 0: invalid start byte"
     ]
    }
   ],
   "source": [
    "\n",
    "# import pathlib\n",
    "# # 获取所有文件\n",
    "# files = os.listdir(path_img)\n",
    "# os.chdir(path_img)\n",
    "# # 对文件名排序 todo\n",
    "# files.sort()\n",
    "\n",
    "# # 使用lambda表达式获取文件名中的两段数字部分 \n",
    "# # files.sort(key=lambda f: (int(f.split('_')[2]), int(f.split('_')[3])))\n",
    "\n",
    "# # 初始化PdfFileMerger对象\n",
    "# merger = PdfFileMerger()\n",
    "\n",
    "# # 遍历图片并添加到PDF\n",
    "# for filename in files:\n",
    "#     if not filename.endswith('.jpg'):\n",
    "#         continue\n",
    "#     print(filename)\n",
    "#     # 打开图片\n",
    "#     image = Image.open(filename)\n",
    "\n",
    "#     # 添加空白页并将图片添加到PDF\n",
    "#     page = PdfFileReader(open(filename, 'rb')).getPage(0)\n",
    "#     page.scaleTo(image.width, image.height)\n",
    "\n",
    "#     # 使用%格式化\n",
    "#     merger.append(PdfFileReader('%s' % filename, 'rb').getPage(0))  \n",
    "\n",
    "#     # 为指定图片添加书签\n",
    "#     if filename.endswith('_0_00.jpg'):\n",
    "#         bk_name = (filename[0:len(filename)-len('_0_00.jpg')])\n",
    "#         bkmk = merger.addBookmark(bk_name, len(merger.pages) - 1) \n",
    "\n",
    "# # 输出PDF文件\n",
    "# # merger.write('result.pdf') "
   ]
  },
  {
   "cell_type": "code",
   "execution_count": 11,
   "id": "0af35163-4400-449b-ab33-d9e187fbed21",
   "metadata": {
    "scrolled": true,
    "tags": []
   },
   "outputs": [
    {
     "name": "stdout",
     "output_type": "stream",
     "text": [
      "0.发刊词  为什么你知道这么多，还是睡不好？\n",
      "1.增大动力：睡眠就像滑滑梯\n",
      "2.减少阻力：创造合适的心理环境\n",
      "3.减少阻力：创造合适的卧室环境\n",
      "4.排除干扰：酒、咖啡、安眠药和午觉 \n",
      "5.形成习惯：改善睡眠微习惯 \n"
     ]
    }
   ],
   "source": [
    "from PIL import Image \n",
    "import img2pdf\n",
    "from PyPDF2 import PdfFileMerger\n",
    "from io import BytesIO\n",
    "\n",
    "import pathlib\n",
    "\n",
    "files = os.listdir(path_img)\n",
    "os.chdir(path_img)\n",
    "\n",
    "# curr_dir = pathlib.Path('.')\n",
    "# # 获取所有文件\n",
    "# files = os.listdir(curr_dir)\n",
    "\n",
    "# 对文件名排序 \n",
    "files.sort()\n",
    "# 使用lambda表达式获取文件名中的数字部分\n",
    "# files.sort(key=lambda f: int(f.split('_')[2])) \n",
    "\n",
    "\n",
    "# 初始化PdfFileMerger对象\n",
    "merger = PdfFileMerger()\n",
    "\n",
    "# 遍历图片并添加到PDF\n",
    "for img in files:\n",
    "    if not img.endswith('.jpg'):\n",
    "        continue\n",
    "    # 打开图片\n",
    "    # print(img)\n",
    "    image = Image.open(img)  \n",
    "\n",
    "    # 图片转换为PDF页面\n",
    "    page = img2pdf.convert(img)  \n",
    "\n",
    "    # 添加页面\n",
    "    f = BytesIO(page) \n",
    "    merger.append(f)\n",
    "\n",
    "    # 为指定图片添加书签\n",
    "    if img.endswith('_0_00.jpg'):\n",
    "        bk_name = (img[0:len(img)-len('_0_00.jpg')])\n",
    "        bkmk = merger.addBookmark(bk_name, len(merger.pages) - 1) \n",
    "        print(bk_name)\n",
    "\n",
    "\n",
    "# 输出PDF文件 \n",
    "merger.write('result.pdf')"
   ]
  },
  {
   "cell_type": "code",
   "execution_count": null,
   "id": "aee1e483-0097-4ad7-9fe8-cb223a7ff530",
   "metadata": {},
   "outputs": [],
   "source": []
  },
  {
   "cell_type": "code",
   "execution_count": null,
   "id": "de818770-ae84-4691-b6d7-170f30b54c24",
   "metadata": {},
   "outputs": [],
   "source": []
  },
  {
   "cell_type": "code",
   "execution_count": 3,
   "id": "f1921d3a-7110-4da1-a466-bd2c8a9dfc38",
   "metadata": {
    "collapsed": true,
    "jupyter": {
     "outputs_hidden": true,
     "source_hidden": true
    },
    "tags": []
   },
   "outputs": [
    {
     "name": "stdout",
     "output_type": "stream",
     "text": [
      "0.发刊词  为什么_0_00 .jpg\n"
     ]
    },
    {
     "ename": "UnicodeDecodeError",
     "evalue": "'utf-8' codec can't decode byte 0xff in position 0: invalid start byte",
     "output_type": "error",
     "traceback": [
      "\u001b[0;31m---------------------------------------------------------------------------\u001b[0m",
      "\u001b[0;31mUnicodeDecodeError\u001b[0m                        Traceback (most recent call last)",
      "Cell \u001b[0;32mIn[3], line 23\u001b[0m\n\u001b[1;32m     20\u001b[0m image \u001b[38;5;241m=\u001b[39m Image\u001b[38;5;241m.\u001b[39mopen(filename)\n\u001b[1;32m     22\u001b[0m \u001b[38;5;66;03m# 添加空白页并将图片添加到PDF\u001b[39;00m\n\u001b[0;32m---> 23\u001b[0m page \u001b[38;5;241m=\u001b[39m \u001b[43mPdfFileReader\u001b[49m\u001b[43m(\u001b[49m\u001b[38;5;28;43mopen\u001b[39;49m\u001b[43m(\u001b[49m\u001b[43mfilename\u001b[49m\u001b[43m,\u001b[49m\u001b[43m \u001b[49m\u001b[38;5;124;43m'\u001b[39;49m\u001b[38;5;124;43mrb\u001b[39;49m\u001b[38;5;124;43m'\u001b[39;49m\u001b[43m)\u001b[49m\u001b[43m)\u001b[49m\u001b[38;5;241m.\u001b[39mgetPage(\u001b[38;5;241m0\u001b[39m)\n\u001b[1;32m     24\u001b[0m page\u001b[38;5;241m.\u001b[39mscaleTo(image\u001b[38;5;241m.\u001b[39mwidth, image\u001b[38;5;241m.\u001b[39mheight)\n\u001b[1;32m     26\u001b[0m \u001b[38;5;66;03m# 使用%格式化\u001b[39;00m\n",
      "File \u001b[0;32m~/opt/anaconda3/envs/tools/lib/python3.9/site-packages/PyPDF2/_reader.py:1892\u001b[0m, in \u001b[0;36mPdfFileReader.__init__\u001b[0;34m(self, *args, **kwargs)\u001b[0m\n\u001b[1;32m   1890\u001b[0m \u001b[38;5;28;01mif\u001b[39;00m \u001b[38;5;124m\"\u001b[39m\u001b[38;5;124mstrict\u001b[39m\u001b[38;5;124m\"\u001b[39m \u001b[38;5;129;01mnot\u001b[39;00m \u001b[38;5;129;01min\u001b[39;00m kwargs \u001b[38;5;129;01mand\u001b[39;00m \u001b[38;5;28mlen\u001b[39m(args) \u001b[38;5;241m<\u001b[39m \u001b[38;5;241m2\u001b[39m:\n\u001b[1;32m   1891\u001b[0m     kwargs[\u001b[38;5;124m\"\u001b[39m\u001b[38;5;124mstrict\u001b[39m\u001b[38;5;124m\"\u001b[39m] \u001b[38;5;241m=\u001b[39m \u001b[38;5;28;01mTrue\u001b[39;00m  \u001b[38;5;66;03m# maintain the default\u001b[39;00m\n\u001b[0;32m-> 1892\u001b[0m \u001b[38;5;28;43msuper\u001b[39;49m\u001b[43m(\u001b[49m\u001b[43m)\u001b[49m\u001b[38;5;241;43m.\u001b[39;49m\u001b[38;5;21;43m__init__\u001b[39;49m\u001b[43m(\u001b[49m\u001b[38;5;241;43m*\u001b[39;49m\u001b[43margs\u001b[49m\u001b[43m,\u001b[49m\u001b[43m \u001b[49m\u001b[38;5;241;43m*\u001b[39;49m\u001b[38;5;241;43m*\u001b[39;49m\u001b[43mkwargs\u001b[49m\u001b[43m)\u001b[49m\n",
      "File \u001b[0;32m~/opt/anaconda3/envs/tools/lib/python3.9/site-packages/PyPDF2/_reader.py:274\u001b[0m, in \u001b[0;36mPdfReader.__init__\u001b[0;34m(self, stream, strict, password)\u001b[0m\n\u001b[1;32m    272\u001b[0m     \u001b[38;5;28;01mwith\u001b[39;00m \u001b[38;5;28mopen\u001b[39m(stream, \u001b[38;5;124m\"\u001b[39m\u001b[38;5;124mrb\u001b[39m\u001b[38;5;124m\"\u001b[39m) \u001b[38;5;28;01mas\u001b[39;00m fh:\n\u001b[1;32m    273\u001b[0m         stream \u001b[38;5;241m=\u001b[39m BytesIO(fh\u001b[38;5;241m.\u001b[39mread())\n\u001b[0;32m--> 274\u001b[0m \u001b[38;5;28;43mself\u001b[39;49m\u001b[38;5;241;43m.\u001b[39;49m\u001b[43mread\u001b[49m\u001b[43m(\u001b[49m\u001b[43mstream\u001b[49m\u001b[43m)\u001b[49m\n\u001b[1;32m    275\u001b[0m \u001b[38;5;28mself\u001b[39m\u001b[38;5;241m.\u001b[39mstream \u001b[38;5;241m=\u001b[39m stream\n\u001b[1;32m    277\u001b[0m \u001b[38;5;28mself\u001b[39m\u001b[38;5;241m.\u001b[39m_override_encryption \u001b[38;5;241m=\u001b[39m \u001b[38;5;28;01mFalse\u001b[39;00m\n",
      "File \u001b[0;32m~/opt/anaconda3/envs/tools/lib/python3.9/site-packages/PyPDF2/_reader.py:1329\u001b[0m, in \u001b[0;36mPdfReader.read\u001b[0;34m(self, stream)\u001b[0m\n\u001b[1;32m   1328\u001b[0m \u001b[38;5;28;01mdef\u001b[39;00m \u001b[38;5;21mread\u001b[39m(\u001b[38;5;28mself\u001b[39m, stream: StreamType) \u001b[38;5;241m-\u001b[39m\u001b[38;5;241m>\u001b[39m \u001b[38;5;28;01mNone\u001b[39;00m:\n\u001b[0;32m-> 1329\u001b[0m     \u001b[38;5;28;43mself\u001b[39;49m\u001b[38;5;241;43m.\u001b[39;49m\u001b[43m_basic_validation\u001b[49m\u001b[43m(\u001b[49m\u001b[43mstream\u001b[49m\u001b[43m)\u001b[49m\n\u001b[1;32m   1330\u001b[0m     \u001b[38;5;28mself\u001b[39m\u001b[38;5;241m.\u001b[39m_find_eof_marker(stream)\n\u001b[1;32m   1331\u001b[0m     startxref \u001b[38;5;241m=\u001b[39m \u001b[38;5;28mself\u001b[39m\u001b[38;5;241m.\u001b[39m_find_startxref_pos(stream)\n",
      "File \u001b[0;32m~/opt/anaconda3/envs/tools/lib/python3.9/site-packages/PyPDF2/_reader.py:1376\u001b[0m, in \u001b[0;36mPdfReader._basic_validation\u001b[0;34m(self, stream)\u001b[0m\n\u001b[1;32m   1373\u001b[0m header_byte \u001b[38;5;241m=\u001b[39m stream\u001b[38;5;241m.\u001b[39mread(\u001b[38;5;241m5\u001b[39m)\n\u001b[1;32m   1374\u001b[0m \u001b[38;5;28;01mif\u001b[39;00m header_byte \u001b[38;5;241m!=\u001b[39m \u001b[38;5;124mb\u001b[39m\u001b[38;5;124m\"\u001b[39m\u001b[38;5;124m%\u001b[39m\u001b[38;5;124mPDF-\u001b[39m\u001b[38;5;124m\"\u001b[39m:\n\u001b[1;32m   1375\u001b[0m     \u001b[38;5;28;01mraise\u001b[39;00m PdfReadError(\n\u001b[0;32m-> 1376\u001b[0m         \u001b[38;5;124mf\u001b[39m\u001b[38;5;124m\"\u001b[39m\u001b[38;5;124mPDF starts with \u001b[39m\u001b[38;5;124m'\u001b[39m\u001b[38;5;132;01m{\u001b[39;00m\u001b[43mheader_byte\u001b[49m\u001b[38;5;241;43m.\u001b[39;49m\u001b[43mdecode\u001b[49m\u001b[43m(\u001b[49m\u001b[38;5;124;43m'\u001b[39;49m\u001b[38;5;124;43mutf8\u001b[39;49m\u001b[38;5;124;43m'\u001b[39;49m\u001b[43m)\u001b[49m\u001b[38;5;132;01m}\u001b[39;00m\u001b[38;5;124m'\u001b[39m\u001b[38;5;124m, \u001b[39m\u001b[38;5;124m\"\u001b[39m\n\u001b[1;32m   1377\u001b[0m         \u001b[38;5;124m\"\u001b[39m\u001b[38;5;124mbut \u001b[39m\u001b[38;5;124m'\u001b[39m\u001b[38;5;124m%\u001b[39m\u001b[38;5;124mPDF-\u001b[39m\u001b[38;5;124m'\u001b[39m\u001b[38;5;124m expected\u001b[39m\u001b[38;5;124m\"\u001b[39m\n\u001b[1;32m   1378\u001b[0m     )\n\u001b[1;32m   1379\u001b[0m stream\u001b[38;5;241m.\u001b[39mseek(\u001b[38;5;241m0\u001b[39m, os\u001b[38;5;241m.\u001b[39mSEEK_END)\n",
      "\u001b[0;31mUnicodeDecodeError\u001b[0m: 'utf-8' codec can't decode byte 0xff in position 0: invalid start byte"
     ]
    }
   ],
   "source": [
    "\n",
    "# import pathlib\n",
    "# from io import BytesIO\n",
    "# # 获取所有文件\n",
    "# os.chdir('.')\n",
    "# files = os.listdir('.')\n",
    "# # 对文件名排序 todo\n",
    "# files.sort()\n",
    "\n",
    "# # 使用lambda表达式获取文件名中的两段数字部分 \n",
    "# # files.sort(key=lambda f: (int(f.split('_')[2]), int(f.split('_')[3])))\n",
    "\n",
    "# # 初始化PdfFileMerger对象\n",
    "# merger = PdfFileMerger()\n",
    "\n",
    "# # 图片转换为PDF页面  \n",
    "# page = img2pdf.convert(img)\n",
    "\n",
    "# # 构造文件对象并传入  \n",
    "# f = BytesIO(page)  \n",
    "# merger.append(f)\n",
    "# # 遍历图片并添加到PDF\n",
    "# for filename in files:\n",
    "#     if not filename.endswith('.jpg'):\n",
    "#         continue\n",
    "#     print(filename)\n",
    "#     # 打开图片\n",
    "#     image = Image.open(filename)\n",
    "\n",
    "#     # 添加空白页并将图片添加到PDF\n",
    "#     page = PdfFileReader(open(filename, 'rb')).getPage(0)\n",
    "#     page.scaleTo(image.width, image.height)\n",
    "\n",
    "#     # 使用%格式化\n",
    "#     merger.append(PdfFileReader('%s' % filename, 'rb').getPage(0))  \n",
    "\n",
    "#     # 为指定图片添加书签\n",
    "#     if filename.endswith('_0_00.jpg'):\n",
    "#         bk_name = (filename[0:len(filename)-len('_0_00.jpg')])\n",
    "#         bkmk = merger.addBookmark(bk_name, len(merger.pages) - 1) \n",
    "\n",
    "# # 输出PDF文件\n",
    "# # merger.write('result.pdf') "
   ]
  },
  {
   "cell_type": "code",
   "execution_count": 52,
   "id": "1948d787-a331-4389-8dfb-f7cc3f9b0fb4",
   "metadata": {
    "collapsed": true,
    "jupyter": {
     "outputs_hidden": true
    },
    "tags": []
   },
   "outputs": [
    {
     "name": "stdout",
     "output_type": "stream",
     "text": [
      "page1_0_10.jpg [1, 0, 10]\n",
      "page1_0_9.jpg [1, 0, 9]\n",
      "page1_0_8.jpg [1, 0, 8]\n",
      "page1_0_0.jpg [1, 0, 0]\n",
      "page1_0_1.jpg [1, 0, 1]\n",
      "page1_0_3.jpg [1, 0, 3]\n",
      "page1_0_2.jpg [1, 0, 2]\n",
      "page1_0_6.jpg [1, 0, 6]\n",
      "page1_0_7.jpg [1, 0, 7]\n",
      "page1_0_5.jpg [1, 0, 5]\n",
      "page1_0_4.jpg [1, 0, 4]\n"
     ]
    }
   ],
   "source": [
    "for f in files:\n",
    "    if f.startswith('page1_'):\n",
    "        print(f, [int(n) for n in re.findall(r'\\d+', f)] )"
   ]
  },
  {
   "cell_type": "code",
   "execution_count": 95,
   "id": "8a51eb88-1905-46c6-85b8-ec91447b8d8d",
   "metadata": {
    "collapsed": true,
    "jupyter": {
     "outputs_hidden": true,
     "source_hidden": true
    },
    "tags": []
   },
   "outputs": [
    {
     "name": "stdout",
     "output_type": "stream",
     "text": [
      "['page1_0_10.jpg', 'page1_0_9.jpg', 'page1_0_8.jpg', 'page1_0_0.jpg', 'page1_0_1.jpg', 'page1_0_3.jpg', 'page1_0_2.jpg', 'page1_0_6.jpg', 'page1_0_7.jpg', 'page1_0_5.jpg', 'page1_0_4.jpg']\n",
      "[[1, 0, 10], [1, 0, 9], [1, 0, 8], [1, 0, 0], [1, 0, 1], [1, 0, 3], [1, 0, 2], [1, 0, 6], [1, 0, 7], [1, 0, 5], [1, 0, 4]]\n",
      "[1, 0, 10]\n"
     ]
    },
    {
     "ename": "ValueError",
     "evalue": "'page1_0_10.jpg' is not in list",
     "output_type": "error",
     "traceback": [
      "\u001b[0;31m---------------------------------------------------------------------------\u001b[0m",
      "\u001b[0;31mValueError\u001b[0m                                Traceback (most recent call last)",
      "Cell \u001b[0;32mIn[95], line 13\u001b[0m\n\u001b[1;32m     11\u001b[0m f\u001b[38;5;241m=\u001b[39m\u001b[38;5;124m'\u001b[39m\u001b[38;5;124mpage1_0_10.jpg\u001b[39m\u001b[38;5;124m'\u001b[39m\n\u001b[1;32m     12\u001b[0m \u001b[38;5;28mprint\u001b[39m(nums[files\u001b[38;5;241m.\u001b[39mindex(f)])\n\u001b[0;32m---> 13\u001b[0m \u001b[43mfiles\u001b[49m\u001b[38;5;241;43m.\u001b[39;49m\u001b[43msort\u001b[49m\u001b[43m(\u001b[49m\u001b[43mkey\u001b[49m\u001b[38;5;241;43m=\u001b[39;49m\u001b[38;5;28;43;01mlambda\u001b[39;49;00m\u001b[43m \u001b[49m\u001b[43mf\u001b[49m\u001b[43m:\u001b[49m\u001b[43m \u001b[49m\u001b[43mnums\u001b[49m\u001b[43m[\u001b[49m\u001b[43mfiles\u001b[49m\u001b[38;5;241;43m.\u001b[39;49m\u001b[43mindex\u001b[49m\u001b[43m(\u001b[49m\u001b[43mf\u001b[49m\u001b[43m)\u001b[49m\u001b[43m]\u001b[49m\u001b[43m,\u001b[49m\u001b[43m \u001b[49m\u001b[43mreverse\u001b[49m\u001b[38;5;241;43m=\u001b[39;49m\u001b[38;5;28;43;01mTrue\u001b[39;49;00m\u001b[43m)\u001b[49m \n\u001b[1;32m     15\u001b[0m files\u001b[38;5;241m.\u001b[39msort(key\u001b[38;5;241m=\u001b[39m\u001b[38;5;28;01mlambda\u001b[39;00m f: nums[files\u001b[38;5;241m.\u001b[39mindex(f)]\n\u001b[1;32m     16\u001b[0m           )   \n\u001b[1;32m     18\u001b[0m files\u001b[38;5;241m.\u001b[39msort(key\u001b[38;5;241m=\u001b[39m\u001b[38;5;28;01mlambda\u001b[39;00m f: (nums[files\u001b[38;5;241m.\u001b[39mindex(f)][\u001b[38;5;241m0\u001b[39m]\n\u001b[1;32m     19\u001b[0m                           , nums[files\u001b[38;5;241m.\u001b[39mindex(f)][\u001b[38;5;241m1\u001b[39m]\n\u001b[1;32m     20\u001b[0m                           , nums[files\u001b[38;5;241m.\u001b[39mindex(f)][\u001b[38;5;241m2\u001b[39m])\n\u001b[1;32m     21\u001b[0m           )   \n",
      "Cell \u001b[0;32mIn[95], line 13\u001b[0m, in \u001b[0;36m<lambda>\u001b[0;34m(f)\u001b[0m\n\u001b[1;32m     11\u001b[0m f\u001b[38;5;241m=\u001b[39m\u001b[38;5;124m'\u001b[39m\u001b[38;5;124mpage1_0_10.jpg\u001b[39m\u001b[38;5;124m'\u001b[39m\n\u001b[1;32m     12\u001b[0m \u001b[38;5;28mprint\u001b[39m(nums[files\u001b[38;5;241m.\u001b[39mindex(f)])\n\u001b[0;32m---> 13\u001b[0m files\u001b[38;5;241m.\u001b[39msort(key\u001b[38;5;241m=\u001b[39m\u001b[38;5;28;01mlambda\u001b[39;00m f: nums[\u001b[43mfiles\u001b[49m\u001b[38;5;241;43m.\u001b[39;49m\u001b[43mindex\u001b[49m\u001b[43m(\u001b[49m\u001b[43mf\u001b[49m\u001b[43m)\u001b[49m], reverse\u001b[38;5;241m=\u001b[39m\u001b[38;5;28;01mTrue\u001b[39;00m) \n\u001b[1;32m     15\u001b[0m files\u001b[38;5;241m.\u001b[39msort(key\u001b[38;5;241m=\u001b[39m\u001b[38;5;28;01mlambda\u001b[39;00m f: nums[files\u001b[38;5;241m.\u001b[39mindex(f)]\n\u001b[1;32m     16\u001b[0m           )   \n\u001b[1;32m     18\u001b[0m files\u001b[38;5;241m.\u001b[39msort(key\u001b[38;5;241m=\u001b[39m\u001b[38;5;28;01mlambda\u001b[39;00m f: (nums[files\u001b[38;5;241m.\u001b[39mindex(f)][\u001b[38;5;241m0\u001b[39m]\n\u001b[1;32m     19\u001b[0m                           , nums[files\u001b[38;5;241m.\u001b[39mindex(f)][\u001b[38;5;241m1\u001b[39m]\n\u001b[1;32m     20\u001b[0m                           , nums[files\u001b[38;5;241m.\u001b[39mindex(f)][\u001b[38;5;241m2\u001b[39m])\n\u001b[1;32m     21\u001b[0m           )   \n",
      "\u001b[0;31mValueError\u001b[0m: 'page1_0_10.jpg' is not in list"
     ]
    }
   ],
   "source": [
    "import re \n",
    "import os\n",
    "from collections import defaultdict\n",
    "\n",
    "files = os.listdir(curr_dir) \n",
    "files = [f for f in files  if f.startswith('page1_')]\n",
    "print(files)\n",
    "nums = [[int(n) for n in re.findall(r'\\d+', f)]\n",
    "        for f in files if f.startswith('page1_')]\n",
    "print(nums)\n",
    "f='page1_0_10.jpg'\n",
    "print(nums[files.index(f)])\n",
    "\n",
    "files.sort(key=lambda f: nums[files.index(f)], reverse=True) \n",
    "\n",
    "files.sort(key=lambda f: nums[files.index(f)]\n",
    "          )   \n",
    "\n",
    "files.sort(key=lambda f: (nums[files.index(f)][0]\n",
    "                          , nums[files.index(f)][1]\n",
    "                          , nums[files.index(f)][2])\n",
    "          )   \n",
    "              \n",
    "# 对文件名排序  \n",
    "files.sort(key=lambda f: (int(f.split('_')[2]), int(f.split('_')[3])))   \n",
    "\n",
    "print(files)\n",
    "for f in files:\n",
    "    print(f)"
   ]
  },
  {
   "cell_type": "markdown",
   "id": "676bcd6f-f2ad-43b7-9e1d-d008ff6368fc",
   "metadata": {},
   "source": [
    "## 迁移书签"
   ]
  },
  {
   "cell_type": "code",
   "execution_count": null,
   "id": "4098478a-d497-4efb-b9f4-8fd1943f3bca",
   "metadata": {},
   "outputs": [],
   "source": [
    "import PyPDF2\n",
    "\n",
    "files = os.listdir(path_img)\n",
    "os.chdir(path_img)\n",
    "\n",
    "# 读取源PDF文件并获取书签信息\n",
    "pdf = PyPDF2.PdfFileReader('source.pdf')\n",
    "bookmarks = pdf.getOutlines()\n",
    "\n",
    "# 遍历书签,获取位置和名称\n",
    "for bookmark in bookmarks:\n",
    "    page_num = bookmark.page\n",
    "    title = bookmark.title\n",
    "\n",
    "# 读取目标PDF文件,准备添加书签  \n",
    "pdf_writer = PyPDF2.PdfFileWriter()\n",
    "pdf_writer.cloneReaderDocumentRoot(PyPDF2.PdfFileReader('target.pdf'))\n",
    "\n",
    "# 添加书签\n",
    "bookmark_page = pdf_writer.addBookmark(title, page_num-1)   \n",
    "\n",
    "# 输出新的PDF  \n",
    "with open('new.pdf', 'wb') as f:\n",
    "    pdf_writer.write(f) "
   ]
  }
 ],
 "metadata": {
  "kernelspec": {
   "display_name": "Python 3 (ipykernel)",
   "language": "python",
   "name": "python3"
  },
  "language_info": {
   "codemirror_mode": {
    "name": "ipython",
    "version": 3
   },
   "file_extension": ".py",
   "mimetype": "text/x-python",
   "name": "python",
   "nbconvert_exporter": "python",
   "pygments_lexer": "ipython3",
   "version": "3.9.16"
  },
  "toc-autonumbering": false,
  "toc-showcode": false,
  "toc-showmarkdowntxt": true
 },
 "nbformat": 4,
 "nbformat_minor": 5
}
